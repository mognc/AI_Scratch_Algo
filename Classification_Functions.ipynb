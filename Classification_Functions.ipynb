{
  "nbformat": 4,
  "nbformat_minor": 0,
  "metadata": {
    "colab": {
      "provenance": [],
      "authorship_tag": "ABX9TyMPxuMeMOn7zEmP3pe7Gwym",
      "include_colab_link": true
    },
    "kernelspec": {
      "name": "python3",
      "display_name": "Python 3"
    },
    "language_info": {
      "name": "python"
    }
  },
  "cells": [
    {
      "cell_type": "markdown",
      "metadata": {
        "id": "view-in-github",
        "colab_type": "text"
      },
      "source": [
        "<a href=\"https://colab.research.google.com/github/mognc/AI_Scratch_Algo/blob/main/Classification_Functions.ipynb\" target=\"_parent\"><img src=\"https://colab.research.google.com/assets/colab-badge.svg\" alt=\"Open In Colab\"/></a>"
      ]
    },
    {
      "cell_type": "markdown",
      "source": [
        "Naive Bayes\n",
        "\n",
        "Estimate\n",
        " P(y|**X**) = maximize P(**x** | y) . P(y) / P(**X**)\n",
        ""
      ],
      "metadata": {
        "id": "9vTH9Q5Sk7Q5"
      }
    },
    {
      "cell_type": "code",
      "execution_count": null,
      "metadata": {
        "id": "D7GdKm3Zivig"
      },
      "outputs": [],
      "source": [
        "class Naive_Bayes():\n",
        "\n",
        "  def __init__(self):\n",
        "    pass\n",
        "\n",
        "  def fit(self,X,Y):\n",
        "    pass\n",
        "\n",
        "  def predict():\n",
        "    pass\n",
        "\n",
        ""
      ]
    },
    {
      "cell_type": "markdown",
      "source": [
        "Decision Trees\n",
        "\n",
        "\n",
        "$$ Entropy = -\\sum_{i=1}^{m} p{i} * log(p{i})$$"
      ],
      "metadata": {
        "id": "yp5C8DLlqI4G"
      }
    },
    {
      "cell_type": "code",
      "source": [
        "import pandas as pd\n",
        "import numpy as np\n",
        "import math"
      ],
      "metadata": {
        "id": "whBAqf2Kt5NN"
      },
      "execution_count": 154,
      "outputs": []
    },
    {
      "cell_type": "code",
      "source": [
        "df = pd.DataFrame({'Weather' : ['Sunny', 'Sunny', 'Cloudy', 'Rainy', 'Rainy','Rainy', 'Cloudy', 'Sunny', 'Sunny', 'Rainy', 'Sunny', 'Cloudy', 'Cloudy', 'Rainy'],\n",
        "                   'target' : ['No', 'No', 'Yes', 'Yes', 'Yes', 'No', 'Yes', 'No', 'Yes', 'Yes', 'Yes', 'Yes', 'Yes', 'No'],\n",
        "                   'Temperature' : ['Hot', 'Hot', 'Hot', 'Mild', 'Cool', 'Cool', 'Cool', 'Mild', 'Cool', 'Mild', 'Mild', 'Mild', 'Hot', 'Mild']})\n",
        ""
      ],
      "metadata": {
        "id": "gCK3vRDSt9x1"
      },
      "execution_count": 179,
      "outputs": []
    },
    {
      "cell_type": "code",
      "source": [
        "def entropy(dataSeries_attribute, dataSeries_target):\n",
        "\n",
        "  length_target = len(dataSeries_target)\n",
        "  target_counts = dataSeries_target.value_counts()\n",
        "\n",
        "  target_result = 0\n",
        "  for i in target_counts:\n",
        "    target_result = target_result -(i/length_target) * math.log2(i/length_target)\n",
        "\n",
        "  print(\"The result of whole dataset is: \", target_result)\n",
        "\n",
        "  yes_list = []\n",
        "  no_list = []\n",
        "\n",
        "  for x in dataSeries_attribute.unique():\n",
        "    count_yes = 0\n",
        "    count_no = 0\n",
        "    for i in range(len(dataSeries_attribute)):\n",
        "      if(dataSeries_target[i] == 'Yes' and dataSeries_attribute[i] == x):\n",
        "        count_yes = count_yes + 1\n",
        "      if(dataSeries_target[i] == 'No' and dataSeries_attribute[i] == x):\n",
        "        count_no = count_no + 1\n",
        "    yes_list.append(count_yes)\n",
        "    no_list.append(count_no)\n",
        "\n",
        "  print(\"The result of yes list is: \", yes_list)\n",
        "  print(\"The result of no list is: \", no_list)\n",
        "\n",
        "  result_list = []\n",
        "  unique = dataSeries_attribute.value_counts()\n",
        "  total_length = len(dataSeries_attribute)\n",
        "  info_result = []\n",
        "  for i in range(len(unique)):\n",
        "    result = 0\n",
        "    length = yes_list[i] + no_list[i]\n",
        "    var1 = yes_list[i]/length if length > 0 else 0\n",
        "    var2 = no_list[i]/length if length > 0 else 0\n",
        "\n",
        "    result1 = var1 * math.log2(var1) if var1 > 0 else 0\n",
        "    result2 = var2 * math.log2(var2) if var2 > 0 else 0\n",
        "\n",
        "    result = - result1 - result2\n",
        "    info_res = -((length/total_length) * result)\n",
        "    result_list.append(result)\n",
        "    info_result.append(info_res)\n",
        "\n",
        "\n",
        "  print(\"Entropy of all attributes: \", result_list)\n",
        "  info_result = np.array(info_result)\n",
        "  information_gain = target_result + info_result.sum()\n",
        "\n",
        "  print(\"Information Gain for each attribute: \", information_gain)\n",
        "\n"
      ],
      "metadata": {
        "id": "Ol7VNB3Uswum"
      },
      "execution_count": 177,
      "outputs": []
    },
    {
      "cell_type": "code",
      "source": [
        "entropy(df['Weather'], df['target'])"
      ],
      "metadata": {
        "colab": {
          "base_uri": "https://localhost:8080/"
        },
        "id": "-i35ven4xDUi",
        "outputId": "4e94ad23-e7c5-47e4-b898-7f2e311e2779"
      },
      "execution_count": 178,
      "outputs": [
        {
          "output_type": "stream",
          "name": "stdout",
          "text": [
            "The result of whole dataset is:  0.9402859586706311\n",
            "The result of yes list is:  [2, 4, 3]\n",
            "The result of no list is:  [3, 0, 2]\n",
            "Entropy of all attributes:  [0.9709505944546686, -0.0, 0.9709505944546686]\n",
            "Information Gain for each attribute:  0.24674981977443933\n"
          ]
        }
      ]
    },
    {
      "cell_type": "code",
      "source": [
        "entropy(df['Temperature'], df['target'])"
      ],
      "metadata": {
        "colab": {
          "base_uri": "https://localhost:8080/"
        },
        "id": "P5T5oOKWjIFK",
        "outputId": "06ae6bd7-56e7-4af2-82a8-eca33d6b3fce"
      },
      "execution_count": 180,
      "outputs": [
        {
          "output_type": "stream",
          "name": "stdout",
          "text": [
            "The result of whole dataset is:  0.9402859586706311\n",
            "The result of yes list is:  [2, 4, 3]\n",
            "The result of no list is:  [2, 2, 1]\n",
            "Entropy of all attributes:  [1.0, 0.9182958340544896, 0.8112781244591328]\n",
            "Information Gain for each attribute:  0.02922256565895487\n"
          ]
        }
      ]
    }
  ]
}